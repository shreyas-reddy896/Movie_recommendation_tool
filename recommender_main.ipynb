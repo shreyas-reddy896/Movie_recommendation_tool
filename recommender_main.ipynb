{
 "cells": [
  {
   "cell_type": "code",
   "execution_count": null,
   "id": "c78d86f8-6a5b-43a7-8870-371cfe3e0b7a",
   "metadata": {},
   "outputs": [],
   "source": [
    "import numpy as np\n",
    "import pandas as pd"
   ]
  },
  {
   "cell_type": "code",
   "execution_count": null,
   "id": "74fbfc41-ec0c-4f87-9607-f0b06877870c",
   "metadata": {},
   "outputs": [],
   "source": [
    "movies = pd.read_csv(\"tmdb_5000_movies.csv\")\n",
    "credits = pd.read_csv(\"tmdb_5000_credits.csv\")"
   ]
  },
  {
   "cell_type": "code",
   "execution_count": null,
   "id": "7e5f0927-ba93-4eb7-aca7-ea0e738a7dd0",
   "metadata": {},
   "outputs": [],
   "source": [
    "movies.head(1)"
   ]
  },
  {
   "cell_type": "code",
   "execution_count": null,
   "id": "4dbf5ef7-ef53-4ab8-9676-c9c4a9c7df35",
   "metadata": {
    "scrolled": true
   },
   "outputs": [],
   "source": [
    "credits.head(1)['cast'].values"
   ]
  },
  {
   "cell_type": "code",
   "execution_count": null,
   "id": "d449c1b1-ac9f-4993-a4d0-0cb3681de499",
   "metadata": {},
   "outputs": [],
   "source": [
    "movies = movies.merge(credits,on=\"title\")"
   ]
  },
  {
   "cell_type": "code",
   "execution_count": null,
   "id": "ceef2db8-c34c-424f-b7d5-c91e3a4959ed",
   "metadata": {},
   "outputs": [],
   "source": [
    "movies.head(1)"
   ]
  },
  {
   "cell_type": "code",
   "execution_count": null,
   "id": "e5f02764-b9d5-4a80-8cbe-45c211d0365b",
   "metadata": {
    "scrolled": true
   },
   "outputs": [],
   "source": [
    "movies.info()"
   ]
  },
  {
   "cell_type": "code",
   "execution_count": null,
   "id": "ad118579-0c37-4fe9-8830-8273f5fa5da1",
   "metadata": {},
   "outputs": [],
   "source": [
    "movies = movies[['movie_id','genres','id','keywords','title','overview','cast','crew']]"
   ]
  },
  {
   "cell_type": "code",
   "execution_count": null,
   "id": "cdb16f5c-8cb6-43d7-99fa-b9d9fb443565",
   "metadata": {
    "scrolled": true
   },
   "outputs": [],
   "source": [
    "movies.head()"
   ]
  },
  {
   "cell_type": "code",
   "execution_count": null,
   "id": "5104e340-c03f-4387-af73-0c1a45d0f6b6",
   "metadata": {
    "scrolled": true
   },
   "outputs": [],
   "source": [
    "movies.isnull().sum()"
   ]
  },
  {
   "cell_type": "code",
   "execution_count": null,
   "id": "7ade3380-3a06-41c5-8a4e-3748422c25c1",
   "metadata": {},
   "outputs": [],
   "source": [
    "movies.dropna(inplace= True)"
   ]
  },
  {
   "cell_type": "code",
   "execution_count": null,
   "id": "88340ab0-8f3a-4349-8deb-cfdc6fe62d2a",
   "metadata": {},
   "outputs": [],
   "source": [
    "movies.duplicated().sum()"
   ]
  },
  {
   "cell_type": "code",
   "execution_count": null,
   "id": "973b1b1d-7878-4312-88b8-a1653bd8e2e3",
   "metadata": {},
   "outputs": [],
   "source": [
    "movies.iloc[0].genres"
   ]
  },
  {
   "cell_type": "code",
   "execution_count": null,
   "id": "3091c101-9175-4681-8598-c93c968fa448",
   "metadata": {},
   "outputs": [],
   "source": [
    "import ast\n",
    "\n",
    "def convert(obj):\n",
    "    L = []\n",
    "    \n",
    "    # Ensure obj is a string before evaluating\n",
    "    if isinstance(obj, str):\n",
    "        try:\n",
    "            obj = ast.literal_eval(obj)\n",
    "        except (ValueError, SyntaxError):\n",
    "            return []  # Return an empty list if conversion fails\n",
    "\n",
    "    # If obj is already a list, proceed\n",
    "    if isinstance(obj, list):\n",
    "        for i in obj:\n",
    "            if isinstance(i, dict) and 'name' in i:\n",
    "                L.append(i['name'])\n",
    "            elif isinstance(i, str):  # If it's a string, append it directly\n",
    "                L.append(i)\n",
    "\n",
    "    return L\n"
   ]
  },
  {
   "cell_type": "code",
   "execution_count": null,
   "id": "ffd51adf-a639-4e06-a722-c91830b6d8c6",
   "metadata": {},
   "outputs": [],
   "source": [
    "movies['genres'] = movies['genres'].apply(convert)"
   ]
  },
  {
   "cell_type": "code",
   "execution_count": null,
   "id": "c2d4d71d-b4a5-4960-81fe-7519c0d7870f",
   "metadata": {},
   "outputs": [],
   "source": [
    "movies['keywords'] = movies['keywords'].apply(convert)"
   ]
  },
  {
   "cell_type": "code",
   "execution_count": null,
   "id": "2e473780-bf4d-4377-baac-d653517b51a0",
   "metadata": {},
   "outputs": [],
   "source": [
    "movies['cast'][0]"
   ]
  },
  {
   "cell_type": "code",
   "execution_count": null,
   "id": "d2de5bbf-f26d-47a1-bcaf-f8977d7e31b2",
   "metadata": {},
   "outputs": [],
   "source": [
    "import ast\n",
    "\n",
    "def convert3(obj):\n",
    "    L = []\n",
    "    counter = 0\n",
    "    # Ensure obj is a string before evaluating\n",
    "    if isinstance(obj, str):\n",
    "        try:\n",
    "            obj = ast.literal_eval(obj)\n",
    "        except (ValueError, SyntaxError):\n",
    "            return []  # Return an empty list if conversion fails\n",
    "\n",
    "    # If obj is already a list, proceed\n",
    "    if isinstance(obj, list):\n",
    "        for i in obj:\n",
    "            if counter!=3:\n",
    "                if isinstance(i, dict) and 'name' in i:\n",
    "                    L.append(i['name'])\n",
    "                    counter+=1\n",
    "                elif isinstance(i, str):  # If it's a string, append it directly\n",
    "                    L.append(i)\n",
    "            else:\n",
    "                break\n",
    "    return L\n"
   ]
  },
  {
   "cell_type": "code",
   "execution_count": null,
   "id": "4560de8e-1229-4cc4-b0dd-cb8551908c9e",
   "metadata": {},
   "outputs": [],
   "source": [
    "movies['cast'] = movies['cast'].apply(convert3)"
   ]
  },
  {
   "cell_type": "code",
   "execution_count": null,
   "id": "e0f8e13c-98a0-4c7d-915c-bfdea1387a26",
   "metadata": {},
   "outputs": [],
   "source": [
    "movies['cast']"
   ]
  },
  {
   "cell_type": "code",
   "execution_count": null,
   "id": "604bd55c-720a-4e06-b0c5-4219f916edb1",
   "metadata": {},
   "outputs": [],
   "source": [
    "movies.head()"
   ]
  },
  {
   "cell_type": "code",
   "execution_count": null,
   "id": "e978b0c7-be3b-4e6a-8f56-e4622b8a1074",
   "metadata": {},
   "outputs": [],
   "source": [
    "import ast\n",
    "\n",
    "def director(obj):\n",
    "    L = []\n",
    "    \n",
    "    # Ensure obj is a string before evaluating\n",
    "    if isinstance(obj, str):\n",
    "        try:\n",
    "            obj = ast.literal_eval(obj)\n",
    "        except (ValueError, SyntaxError):\n",
    "            return []  # Return an empty list if conversion fails\n",
    "\n",
    "    # If obj is already a list, proceed\n",
    "    if isinstance(obj, list):\n",
    "        for i in obj:\n",
    "            if i['job']=='Director':\n",
    "                if isinstance(i, dict) and 'name' in i:\n",
    "                    L.append(i['name'])\n",
    "                break  \n",
    "            elif isinstance(i, str):  # If it's a string, append it directly\n",
    "                    L.append(i)\n",
    "    return L\n"
   ]
  },
  {
   "cell_type": "code",
   "execution_count": null,
   "id": "8203a871-333c-420e-8d41-201e6e42d8e3",
   "metadata": {},
   "outputs": [],
   "source": [
    "movies['crew'] = movies['crew'].apply(director)"
   ]
  },
  {
   "cell_type": "code",
   "execution_count": null,
   "id": "c5a2bd6d-8128-4704-8e95-f9df418e6fe9",
   "metadata": {},
   "outputs": [],
   "source": [
    "movies['crew']"
   ]
  },
  {
   "cell_type": "code",
   "execution_count": null,
   "id": "2cb53b01-ae7b-45ab-9e80-88bca0d6b83c",
   "metadata": {},
   "outputs": [],
   "source": [
    "movies.head()"
   ]
  },
  {
   "cell_type": "code",
   "execution_count": null,
   "id": "c037d28b-ecd6-4bc1-b8b7-9808ed660377",
   "metadata": {},
   "outputs": [],
   "source": [
    "movies['overview'][1]"
   ]
  },
  {
   "cell_type": "code",
   "execution_count": null,
   "id": "a43b579b-6423-4ecf-b359-e96669745d0a",
   "metadata": {},
   "outputs": [],
   "source": [
    "movies['overview'] = movies['overview'].apply(lambda x:x.split())"
   ]
  },
  {
   "cell_type": "code",
   "execution_count": null,
   "id": "2510a26f-dd8e-4367-a711-736f7ff3fa8e",
   "metadata": {},
   "outputs": [],
   "source": [
    "movies['overview']"
   ]
  },
  {
   "cell_type": "code",
   "execution_count": null,
   "id": "ba07925b-f427-4151-8c8a-1ee7a1efce81",
   "metadata": {},
   "outputs": [],
   "source": [
    "movies.head()"
   ]
  },
  {
   "cell_type": "code",
   "execution_count": null,
   "id": "19102c14-e595-49d9-b1f8-9a62e1580e36",
   "metadata": {},
   "outputs": [],
   "source": [
    "movies['genres'] = movies['genres'].apply(lambda x:[i.replace(\" \",\"\") for i in x]) #to remove space between words"
   ]
  },
  {
   "cell_type": "code",
   "execution_count": null,
   "id": "4575b763-7ccc-48b5-9664-97f6fb9acf96",
   "metadata": {},
   "outputs": [],
   "source": [
    "movies['genres']"
   ]
  },
  {
   "cell_type": "code",
   "execution_count": null,
   "id": "923be4bf-37e0-4620-a98e-d7b86c6989da",
   "metadata": {},
   "outputs": [],
   "source": [
    "movies['cast'] = movies['cast'].apply(lambda x:[i.replace(\" \",\"\") for i in x])"
   ]
  },
  {
   "cell_type": "code",
   "execution_count": null,
   "id": "47f7fdd9-1a0e-41e5-ab4a-f89ad8970def",
   "metadata": {},
   "outputs": [],
   "source": [
    "movies['cast']"
   ]
  },
  {
   "cell_type": "code",
   "execution_count": null,
   "id": "63fd957d-5d0f-4892-be3f-ea5c86ff0773",
   "metadata": {},
   "outputs": [],
   "source": [
    "movies['keywords'] = movies['keywords'].apply(lambda x:[i.replace(\" \",\"\") for i in x])\n",
    "\n",
    "movies['crew'] = movies['crew'].apply(lambda x:[i.replace(\" \",\"\") for i in x])"
   ]
  },
  {
   "cell_type": "code",
   "execution_count": null,
   "id": "ab4186b3-966a-4d08-b16f-358c65f00e2f",
   "metadata": {},
   "outputs": [],
   "source": [
    "movies.head()"
   ]
  },
  {
   "cell_type": "code",
   "execution_count": null,
   "id": "8928e1a5-cbab-4518-8ea1-547a48623510",
   "metadata": {},
   "outputs": [],
   "source": [
    "movies['title'] = movies['title'].apply(lambda x: ''.join(x) if isinstance(x, list) else x)\n"
   ]
  },
  {
   "cell_type": "code",
   "execution_count": null,
   "id": "c13d04d6-7489-4704-81f8-36e9aaa99eb5",
   "metadata": {},
   "outputs": [],
   "source": [
    "movies['tags'] = movies['overview']+movies['cast']+movies['crew']+movies['keywords']+movies['genres']"
   ]
  },
  {
   "cell_type": "code",
   "execution_count": null,
   "id": "fa31140a-96fc-4e1f-ae2f-059ba2fb1474",
   "metadata": {},
   "outputs": [],
   "source": [
    "movies.head()"
   ]
  },
  {
   "cell_type": "code",
   "execution_count": null,
   "id": "d77d0777-2d48-4699-bfda-77702daf5ff0",
   "metadata": {},
   "outputs": [],
   "source": [
    "new_df=movies[['movie_id','title','tags']]"
   ]
  },
  {
   "cell_type": "code",
   "execution_count": null,
   "id": "a7403d8c-56f6-4811-896b-f6a211c7c5ff",
   "metadata": {},
   "outputs": [],
   "source": [
    "new_df"
   ]
  },
  {
   "cell_type": "code",
   "execution_count": null,
   "id": "669d33fd-48da-47cc-8cf3-4f9d855df657",
   "metadata": {},
   "outputs": [],
   "source": [
    "new_df['tags']=new_df['tags'].apply(lambda x:\" \".join(x))"
   ]
  },
  {
   "cell_type": "code",
   "execution_count": null,
   "id": "a08b18f0-fca5-4ec7-8861-eb9159faa428",
   "metadata": {},
   "outputs": [],
   "source": [
    "new_df.head()"
   ]
  },
  {
   "cell_type": "code",
   "execution_count": null,
   "id": "223e8b6f-6c0a-47bd-bf61-ba4eb5a3f7b9",
   "metadata": {},
   "outputs": [],
   "source": [
    "new_df['tags'][0]"
   ]
  },
  {
   "cell_type": "code",
   "execution_count": null,
   "id": "47b3bf14-27f3-47fc-a5bf-e0ebadf8a1f3",
   "metadata": {},
   "outputs": [],
   "source": [
    "new_df['tags']=new_df['tags'].apply(lambda x:x.lower())"
   ]
  },
  {
   "cell_type": "code",
   "execution_count": null,
   "id": "918d13d0-8dd8-45c8-869a-8fcda390544e",
   "metadata": {
    "scrolled": true
   },
   "outputs": [],
   "source": [
    "new_df['tags'][0]"
   ]
  },
  {
   "cell_type": "code",
   "execution_count": null,
   "id": "1f65b436-6f2d-4c29-b5fc-603880fb2296",
   "metadata": {},
   "outputs": [],
   "source": [
    "new_df.head()"
   ]
  },
  {
   "cell_type": "code",
   "execution_count": null,
   "id": "aef4a8e1-f6f8-41e3-b50f-a2012b899255",
   "metadata": {},
   "outputs": [],
   "source": [
    "import sklearn"
   ]
  },
  {
   "cell_type": "code",
   "execution_count": null,
   "id": "1f94cb19-d726-41ac-9eb0-6a3fcae1ed40",
   "metadata": {},
   "outputs": [],
   "source": [
    "from sklearn.feature_extraction.text import CountVectorizer\n",
    "cv = CountVectorizer(max_features = 5000, stop_words='english')"
   ]
  },
  {
   "cell_type": "code",
   "execution_count": null,
   "id": "9e0067eb-eb36-48ce-9ea5-705714e1098b",
   "metadata": {},
   "outputs": [],
   "source": [
    "vectors = cv.fit_transform(new_df['tags']).toarray()"
   ]
  },
  {
   "cell_type": "code",
   "execution_count": null,
   "id": "4de22b67-ff2a-45f5-bfde-c433ec83fbab",
   "metadata": {},
   "outputs": [],
   "source": [
    "vectors"
   ]
  },
  {
   "cell_type": "code",
   "execution_count": null,
   "id": "10d1a9b3-eb36-4907-85a5-2e37c6051a45",
   "metadata": {},
   "outputs": [],
   "source": [
    "vectors[2]"
   ]
  },
  {
   "cell_type": "code",
   "execution_count": null,
   "id": "4bfbc5f8-32aa-4625-8a93-0698f0f4b859",
   "metadata": {},
   "outputs": [],
   "source": [
    "np.set_printoptions(threshold=np.inf)  # Prevents NumPy truncation\n",
    "print(cv.get_feature_names_out())"
   ]
  },
  {
   "cell_type": "code",
   "execution_count": null,
   "id": "2efd73a5-e3bd-4d88-8fea-5c2a21ccf2e9",
   "metadata": {},
   "outputs": [],
   "source": [
    "import nltk"
   ]
  },
  {
   "cell_type": "code",
   "execution_count": null,
   "id": "0d4b6211-44d6-4602-9e44-2a8031428391",
   "metadata": {},
   "outputs": [],
   "source": [
    "from nltk.stem.porter import PorterStemmer\n",
    "ps=PorterStemmer()"
   ]
  },
  {
   "cell_type": "code",
   "execution_count": null,
   "id": "86a70094-bea8-452f-9be1-abd10b2172e7",
   "metadata": {},
   "outputs": [],
   "source": [
    "def stem(text):\n",
    "    y = []\n",
    "    for i in text.split():\n",
    "        y.append(ps.stem(i))\n",
    "    return \" \".join(y)"
   ]
  },
  {
   "cell_type": "code",
   "execution_count": null,
   "id": "fc4a3440-d783-4c1a-9537-65f0ed4edda3",
   "metadata": {},
   "outputs": [],
   "source": [
    "stem('in the 22nd century, a paraplegic marine is dispatched to the moon pandora on a unique mission, but becomes torn between following orders and protecting an alien civilization. samworthington zoesaldana sigourneyweaver jamescameron cultureclash future spacewar spacecolony society spacetravel futuristic romance space alien tribe alienplanet cgi marine soldier battle loveaffair antiwar powerrelations mindandsoul 3d action adventure fantasy sciencefiction')"
   ]
  },
  {
   "cell_type": "code",
   "execution_count": null,
   "id": "fcec9594-0f22-4c2d-987e-5ef74bbe18e4",
   "metadata": {},
   "outputs": [],
   "source": [
    "new_df['tags']=new_df['tags'].apply(stem)"
   ]
  },
  {
   "cell_type": "code",
   "execution_count": null,
   "id": "d013fbd8-10ed-475d-94be-1e0538caebef",
   "metadata": {},
   "outputs": [],
   "source": [
    "from sklearn.metrics.pairwise import cosine_similarity"
   ]
  },
  {
   "cell_type": "code",
   "execution_count": null,
   "id": "3c176bb9-9f19-49c1-814e-b6d857aa4ea5",
   "metadata": {},
   "outputs": [],
   "source": [
    "similar = cosine_similarity(vectors)"
   ]
  },
  {
   "cell_type": "code",
   "execution_count": null,
   "id": "233f298a-4e0f-406a-856c-a59a5698c17f",
   "metadata": {},
   "outputs": [],
   "source": [
    "similar"
   ]
  },
  {
   "cell_type": "code",
   "execution_count": null,
   "id": "46b2a146-c71b-4e16-aa56-f5c5e364eef7",
   "metadata": {},
   "outputs": [],
   "source": [
    "def recommend(movie):\n",
    "    movie_index = new_df[new_df['title'] == movie].index[0]  \n",
    "\n",
    "    distances = similar[movie_index]\n",
    "    \n",
    "    movies_list = sorted(enumerate(distances), key=lambda x: x[1], reverse=True)[1:6]  \n",
    "\n",
    "    for i in movies_list:\n",
    "        print(new_df.iloc[i[0]]['title'])  \n"
   ]
  },
  {
   "cell_type": "code",
   "execution_count": null,
   "id": "2ac805a8-b3a3-4be7-b306-0fde5b600789",
   "metadata": {},
   "outputs": [],
   "source": [
    "recommend('Avatar')"
   ]
  },
  {
   "cell_type": "code",
   "execution_count": null,
   "id": "1b0dd78e-130c-433e-8141-2e890e79e40f",
   "metadata": {},
   "outputs": [],
   "source": [
    "import pickle"
   ]
  },
  {
   "cell_type": "code",
   "execution_count": null,
   "id": "4c968a49-59bb-4281-b6ca-f28625dda89f",
   "metadata": {},
   "outputs": [],
   "source": [
    "pickle.dump(new_df,open('movies.pkl','wb'))"
   ]
  },
  {
   "cell_type": "code",
   "execution_count": null,
   "id": "4432ce0e-7ba3-485d-9919-6768e9ab04eb",
   "metadata": {},
   "outputs": [],
   "source": [
    "new_df['title'].values"
   ]
  },
  {
   "cell_type": "code",
   "execution_count": null,
   "id": "c463807c-9e4d-4da7-b775-009ce39f48b3",
   "metadata": {},
   "outputs": [],
   "source": [
    "pickle.dump(new_df.to_dict(),open('movies_diction.pkl','wb'))"
   ]
  },
  {
   "cell_type": "code",
   "execution_count": null,
   "id": "eb967bc5-8ba8-49f0-bd11-e47060b770b8",
   "metadata": {},
   "outputs": [],
   "source": [
    "pickle.dump(similar,open('similarity.pkl','wb'))"
   ]
  },
  {
   "cell_type": "code",
   "execution_count": null,
   "id": "82fc2706-607c-4731-b120-86c7c86b26cf",
   "metadata": {},
   "outputs": [],
   "source": []
  }
 ],
 "metadata": {
  "kernelspec": {
   "display_name": "Python 3 (ipykernel)",
   "language": "python",
   "name": "python3"
  },
  "language_info": {
   "codemirror_mode": {
    "name": "ipython",
    "version": 3
   },
   "file_extension": ".py",
   "mimetype": "text/x-python",
   "name": "python",
   "nbconvert_exporter": "python",
   "pygments_lexer": "ipython3",
   "version": "3.12.4"
  }
 },
 "nbformat": 4,
 "nbformat_minor": 5
}
